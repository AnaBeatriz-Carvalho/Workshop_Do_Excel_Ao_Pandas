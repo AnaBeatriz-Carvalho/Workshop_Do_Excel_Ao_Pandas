{
  "nbformat": 4,
  "nbformat_minor": 0,
  "metadata": {
    "colab": {
      "name": "Cópia de Exercícios Workshop Pandas.ipynb",
      "provenance": [],
      "collapsed_sections": [],
      "toc_visible": true,
      "include_colab_link": true
    },
    "kernelspec": {
      "name": "python3",
      "display_name": "Python 3"
    },
    "language_info": {
      "name": "python"
    }
  },
  "cells": [
    {
      "cell_type": "markdown",
      "metadata": {
        "id": "view-in-github",
        "colab_type": "text"
      },
      "source": [
        "<a href=\"https://colab.research.google.com/github/AnaBeatriz-Carvalho/Workshop_Do_Excel_Ao_Pandas/blob/main/Exerc%C3%ADcios_Workshop_Pandas.ipynb\" target=\"_parent\"><img src=\"https://colab.research.google.com/assets/colab-badge.svg\" alt=\"Open In Colab\"/></a>"
      ]
    },
    {
      "cell_type": "markdown",
      "metadata": {
        "id": "F0xmvM7kES7h"
      },
      "source": [
        "# **Atividade: Workshop Excel ao Pandas**"
      ]
    },
    {
      "cell_type": "markdown",
      "metadata": {
        "id": "-k9lJvd5E6PN"
      },
      "source": [
        "O notebook a seguir é referente aos exercícios a serem realizados após o workshop de Pandas. \n",
        "\n",
        "**Antes de realizar a sua atividade, clique File > Save a Copy in Drive (Salvar uma Cópia no Drive)**"
      ]
    },
    {
      "cell_type": "markdown",
      "metadata": {
        "id": "fqgAj889E6Tr"
      },
      "source": [
        "Você faz parte de uma consultoria de negócios e foi contratado pela *Bikes S.A* para realizar uma breve análise dos negócios e responder a algumas questões, desenvolvendo a estratégia de negócios para a próxima temporada "
      ]
    },
    {
      "cell_type": "markdown",
      "metadata": {
        "id": "g773-XerHcOX"
      },
      "source": [
        "### **Exercício 1**\n",
        "Vamos carregar nosso dataset e entender um pouco sobre ele. "
      ]
    },
    {
      "cell_type": "code",
      "metadata": {
        "id": "SBZ3_KpzHZpk"
      },
      "source": [
        "# Importe o pacote Pandas para a sessão (Lembre-se que, caso precise instalar, use o comando !pip install nome-do-pacote)\n",
        "import pandas as pd"
      ],
      "execution_count": null,
      "outputs": []
    },
    {
      "cell_type": "code",
      "metadata": {
        "id": "NDpItiSVc0wP",
        "colab": {
          "resources": {
            "http://localhost:8080/nbextensions/google.colab/files.js": {
              "data": "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",
              "ok": true,
              "headers": [
                [
                  "content-type",
                  "application/javascript"
                ]
              ],
              "status": 200,
              "status_text": ""
            }
          },
          "base_uri": "https://localhost:8080/",
          "height": 73
        },
        "outputId": "c58a961c-43a8-4bf9-acae-44902313e803"
      },
      "source": [
        "# Carregue o dataset\n",
        "\n",
        "# Importar o arquivo do seu computador para o Google Colab\n",
        "from google.colab import files\n",
        "uploaded = files.upload() "
      ],
      "execution_count": null,
      "outputs": [
        {
          "output_type": "display_data",
          "data": {
            "text/html": [
              "\n",
              "     <input type=\"file\" id=\"files-709c0992-7341-4f18-b293-d4e63aab0bf6\" name=\"files[]\" multiple disabled\n",
              "        style=\"border:none\" />\n",
              "     <output id=\"result-709c0992-7341-4f18-b293-d4e63aab0bf6\">\n",
              "      Upload widget is only available when the cell has been executed in the\n",
              "      current browser session. Please rerun this cell to enable.\n",
              "      </output>\n",
              "      <script src=\"/nbextensions/google.colab/files.js\"></script> "
            ],
            "text/plain": [
              "<IPython.core.display.HTML object>"
            ]
          },
          "metadata": {
            "tags": []
          }
        },
        {
          "output_type": "stream",
          "text": [
            "Saving SeoulBikeData (2).csv to SeoulBikeData (2) (1).csv\n"
          ],
          "name": "stdout"
        }
      ]
    },
    {
      "cell_type": "code",
      "metadata": {
        "id": "BYiroNfEH9wI"
      },
      "source": [
        "# Importar o arquivo do Google Colab para o notebook\n",
        "import io\n",
        "df = pd.read_csv('/content/SeoulBikeData (2).csv', encoding='unicode_escape')"
      ],
      "execution_count": null,
      "outputs": []
    },
    {
      "cell_type": "code",
      "metadata": {
        "colab": {
          "base_uri": "https://localhost:8080/",
          "height": 316
        },
        "id": "1sSicMX0IDpo",
        "outputId": "f2fff6b5-cb60-4af1-bf13-69765c8ad8fa"
      },
      "source": [
        "# Verifique as primeiras 5 linhas com o método head\n",
        "df.head()"
      ],
      "execution_count": null,
      "outputs": [
        {
          "output_type": "execute_result",
          "data": {
            "text/html": [
              "<div>\n",
              "<style scoped>\n",
              "    .dataframe tbody tr th:only-of-type {\n",
              "        vertical-align: middle;\n",
              "    }\n",
              "\n",
              "    .dataframe tbody tr th {\n",
              "        vertical-align: top;\n",
              "    }\n",
              "\n",
              "    .dataframe thead th {\n",
              "        text-align: right;\n",
              "    }\n",
              "</style>\n",
              "<table border=\"1\" class=\"dataframe\">\n",
              "  <thead>\n",
              "    <tr style=\"text-align: right;\">\n",
              "      <th></th>\n",
              "      <th>Date</th>\n",
              "      <th>Rented_Bike_Count</th>\n",
              "      <th>Hour</th>\n",
              "      <th>Temperature_(°C)</th>\n",
              "      <th>Humidity(%)</th>\n",
              "      <th>Wind_speed (m/s)</th>\n",
              "      <th>Visibility (10m)</th>\n",
              "      <th>Dew_point_temperature(°C)</th>\n",
              "      <th>Solar_Radiation (MJ/m2)</th>\n",
              "      <th>Rainfall(mm)</th>\n",
              "      <th>Snowfall (cm)</th>\n",
              "      <th>Seasons</th>\n",
              "      <th>Holiday</th>\n",
              "      <th>Functioning_Day</th>\n",
              "    </tr>\n",
              "  </thead>\n",
              "  <tbody>\n",
              "    <tr>\n",
              "      <th>0</th>\n",
              "      <td>01/12/2017</td>\n",
              "      <td>254</td>\n",
              "      <td>0</td>\n",
              "      <td>-5.2</td>\n",
              "      <td>37</td>\n",
              "      <td>2.2</td>\n",
              "      <td>2000</td>\n",
              "      <td>-17.6</td>\n",
              "      <td>0.0</td>\n",
              "      <td>0.0</td>\n",
              "      <td>0.0</td>\n",
              "      <td>Winter</td>\n",
              "      <td>No Holiday</td>\n",
              "      <td>Yes</td>\n",
              "    </tr>\n",
              "    <tr>\n",
              "      <th>1</th>\n",
              "      <td>01/12/2017</td>\n",
              "      <td>204</td>\n",
              "      <td>1</td>\n",
              "      <td>-5.5</td>\n",
              "      <td>38</td>\n",
              "      <td>0.8</td>\n",
              "      <td>2000</td>\n",
              "      <td>-17.6</td>\n",
              "      <td>0.0</td>\n",
              "      <td>0.0</td>\n",
              "      <td>0.0</td>\n",
              "      <td>Winter</td>\n",
              "      <td>No Holiday</td>\n",
              "      <td>Yes</td>\n",
              "    </tr>\n",
              "    <tr>\n",
              "      <th>2</th>\n",
              "      <td>01/12/2017</td>\n",
              "      <td>173</td>\n",
              "      <td>2</td>\n",
              "      <td>-6.0</td>\n",
              "      <td>39</td>\n",
              "      <td>1.0</td>\n",
              "      <td>2000</td>\n",
              "      <td>-17.7</td>\n",
              "      <td>0.0</td>\n",
              "      <td>0.0</td>\n",
              "      <td>0.0</td>\n",
              "      <td>Winter</td>\n",
              "      <td>No Holiday</td>\n",
              "      <td>Yes</td>\n",
              "    </tr>\n",
              "    <tr>\n",
              "      <th>3</th>\n",
              "      <td>01/12/2017</td>\n",
              "      <td>107</td>\n",
              "      <td>3</td>\n",
              "      <td>-6.2</td>\n",
              "      <td>40</td>\n",
              "      <td>0.9</td>\n",
              "      <td>2000</td>\n",
              "      <td>-17.6</td>\n",
              "      <td>0.0</td>\n",
              "      <td>0.0</td>\n",
              "      <td>0.0</td>\n",
              "      <td>Winter</td>\n",
              "      <td>No Holiday</td>\n",
              "      <td>Yes</td>\n",
              "    </tr>\n",
              "    <tr>\n",
              "      <th>4</th>\n",
              "      <td>01/12/2017</td>\n",
              "      <td>78</td>\n",
              "      <td>4</td>\n",
              "      <td>-6.0</td>\n",
              "      <td>36</td>\n",
              "      <td>2.3</td>\n",
              "      <td>2000</td>\n",
              "      <td>-18.6</td>\n",
              "      <td>0.0</td>\n",
              "      <td>0.0</td>\n",
              "      <td>0.0</td>\n",
              "      <td>Winter</td>\n",
              "      <td>No Holiday</td>\n",
              "      <td>Yes</td>\n",
              "    </tr>\n",
              "  </tbody>\n",
              "</table>\n",
              "</div>"
            ],
            "text/plain": [
              "         Date  Rented_Bike_Count  Hour  ...  Seasons     Holiday  Functioning_Day\n",
              "0  01/12/2017                254     0  ...   Winter  No Holiday              Yes\n",
              "1  01/12/2017                204     1  ...   Winter  No Holiday              Yes\n",
              "2  01/12/2017                173     2  ...   Winter  No Holiday              Yes\n",
              "3  01/12/2017                107     3  ...   Winter  No Holiday              Yes\n",
              "4  01/12/2017                 78     4  ...   Winter  No Holiday              Yes\n",
              "\n",
              "[5 rows x 14 columns]"
            ]
          },
          "metadata": {
            "tags": []
          },
          "execution_count": 19
        }
      ]
    },
    {
      "cell_type": "code",
      "metadata": {
        "colab": {
          "base_uri": "https://localhost:8080/"
        },
        "id": "nFV2V6UyIKbs",
        "outputId": "c30d09f2-489d-4979-8169-8eb9e0674a15"
      },
      "source": [
        "# Verifique o tipo de arquivo importado\n",
        "type(df)"
      ],
      "execution_count": null,
      "outputs": [
        {
          "output_type": "execute_result",
          "data": {
            "text/plain": [
              "pandas.core.frame.DataFrame"
            ]
          },
          "metadata": {
            "tags": []
          },
          "execution_count": 20
        }
      ]
    },
    {
      "cell_type": "code",
      "metadata": {
        "colab": {
          "base_uri": "https://localhost:8080/"
        },
        "id": "P9SsbP_GI27v",
        "outputId": "cfa4042e-1cd1-4989-8166-75c036355157"
      },
      "source": [
        "# Verifique as informações (info) do arquivo importado\n",
        "df.info()"
      ],
      "execution_count": null,
      "outputs": [
        {
          "output_type": "stream",
          "text": [
            "<class 'pandas.core.frame.DataFrame'>\n",
            "RangeIndex: 8760 entries, 0 to 8759\n",
            "Data columns (total 14 columns):\n",
            " #   Column                     Non-Null Count  Dtype  \n",
            "---  ------                     --------------  -----  \n",
            " 0   Date                       8760 non-null   object \n",
            " 1   Rented_Bike_Count          8760 non-null   int64  \n",
            " 2   Hour                       8760 non-null   int64  \n",
            " 3   Temperature_(°C)           8760 non-null   float64\n",
            " 4   Humidity(%)                8760 non-null   int64  \n",
            " 5   Wind_speed (m/s)           8760 non-null   float64\n",
            " 6   Visibility (10m)           8760 non-null   int64  \n",
            " 7   Dew_point_temperature(°C)  8760 non-null   float64\n",
            " 8   Solar_Radiation (MJ/m2)    8760 non-null   float64\n",
            " 9   Rainfall(mm)               8760 non-null   float64\n",
            " 10  Snowfall (cm)              8760 non-null   float64\n",
            " 11  Seasons                    8760 non-null   object \n",
            " 12  Holiday                    8760 non-null   object \n",
            " 13  Functioning_Day            8760 non-null   object \n",
            "dtypes: float64(6), int64(4), object(4)\n",
            "memory usage: 958.2+ KB\n"
          ],
          "name": "stdout"
        }
      ]
    },
    {
      "cell_type": "markdown",
      "metadata": {
        "id": "WGXBKWWHOsJK"
      },
      "source": [
        "**Execute a célula abaixo antes de seguir para o próximo exercício**"
      ]
    },
    {
      "cell_type": "code",
      "metadata": {
        "id": "N-3bRSDTJD6g"
      },
      "source": [
        "# Apenas execute esta célula para criar duas novas colunas com mês e ano.\n",
        "df['Date'] = pd.to_datetime(df.Date)\n",
        "df['Year'] = df.Date.dt.year\n",
        "df['Month'] = df.Date.dt.month"
      ],
      "execution_count": null,
      "outputs": []
    },
    {
      "cell_type": "markdown",
      "metadata": {
        "id": "DzPEX37CJa1y"
      },
      "source": [
        "### **Exercício 2**\n",
        "Agora que sabemos um pouco mais sobre nosso dataset, vamos extrair alguns insights dos dados."
      ]
    },
    {
      "cell_type": "code",
      "metadata": {
        "colab": {
          "base_uri": "https://localhost:8080/",
          "height": 177
        },
        "id": "p6yR1w1qMdl_",
        "outputId": "247643ec-edfd-478e-8a61-12f7612f7cd9"
      },
      "source": [
        "# Visualizando a tabela\n",
        "df.head(2)"
      ],
      "execution_count": null,
      "outputs": [
        {
          "output_type": "execute_result",
          "data": {
            "text/html": [
              "<div>\n",
              "<style scoped>\n",
              "    .dataframe tbody tr th:only-of-type {\n",
              "        vertical-align: middle;\n",
              "    }\n",
              "\n",
              "    .dataframe tbody tr th {\n",
              "        vertical-align: top;\n",
              "    }\n",
              "\n",
              "    .dataframe thead th {\n",
              "        text-align: right;\n",
              "    }\n",
              "</style>\n",
              "<table border=\"1\" class=\"dataframe\">\n",
              "  <thead>\n",
              "    <tr style=\"text-align: right;\">\n",
              "      <th></th>\n",
              "      <th>Date</th>\n",
              "      <th>Rented_Bike_Count</th>\n",
              "      <th>Hour</th>\n",
              "      <th>Temperature_(°C)</th>\n",
              "      <th>Humidity(%)</th>\n",
              "      <th>Wind_speed (m/s)</th>\n",
              "      <th>Visibility (10m)</th>\n",
              "      <th>Dew_point_temperature(°C)</th>\n",
              "      <th>Solar_Radiation (MJ/m2)</th>\n",
              "      <th>Rainfall(mm)</th>\n",
              "      <th>Snowfall (cm)</th>\n",
              "      <th>Seasons</th>\n",
              "      <th>Holiday</th>\n",
              "      <th>Functioning_Day</th>\n",
              "      <th>Year</th>\n",
              "      <th>Month</th>\n",
              "    </tr>\n",
              "  </thead>\n",
              "  <tbody>\n",
              "    <tr>\n",
              "      <th>0</th>\n",
              "      <td>2017-01-12</td>\n",
              "      <td>254</td>\n",
              "      <td>0</td>\n",
              "      <td>-5.2</td>\n",
              "      <td>37</td>\n",
              "      <td>2.2</td>\n",
              "      <td>2000</td>\n",
              "      <td>-17.6</td>\n",
              "      <td>0.0</td>\n",
              "      <td>0.0</td>\n",
              "      <td>0.0</td>\n",
              "      <td>Winter</td>\n",
              "      <td>No Holiday</td>\n",
              "      <td>Yes</td>\n",
              "      <td>2017</td>\n",
              "      <td>1</td>\n",
              "    </tr>\n",
              "    <tr>\n",
              "      <th>1</th>\n",
              "      <td>2017-01-12</td>\n",
              "      <td>204</td>\n",
              "      <td>1</td>\n",
              "      <td>-5.5</td>\n",
              "      <td>38</td>\n",
              "      <td>0.8</td>\n",
              "      <td>2000</td>\n",
              "      <td>-17.6</td>\n",
              "      <td>0.0</td>\n",
              "      <td>0.0</td>\n",
              "      <td>0.0</td>\n",
              "      <td>Winter</td>\n",
              "      <td>No Holiday</td>\n",
              "      <td>Yes</td>\n",
              "      <td>2017</td>\n",
              "      <td>1</td>\n",
              "    </tr>\n",
              "  </tbody>\n",
              "</table>\n",
              "</div>"
            ],
            "text/plain": [
              "        Date  Rented_Bike_Count  Hour  ...  Functioning_Day  Year  Month\n",
              "0 2017-01-12                254     0  ...              Yes  2017      1\n",
              "1 2017-01-12                204     1  ...              Yes  2017      1\n",
              "\n",
              "[2 rows x 16 columns]"
            ]
          },
          "metadata": {
            "tags": []
          },
          "execution_count": 23
        }
      ]
    },
    {
      "cell_type": "code",
      "metadata": {
        "colab": {
          "base_uri": "https://localhost:8080/"
        },
        "id": "GHkjjo0yJTde",
        "outputId": "649566c5-ba62-4176-eb35-5d08aea02242"
      },
      "source": [
        "# Agrupe a tabela por ano e faça a soma das vendas por ano\n",
        "df.groupby('Year').Rented_Bike_Count.sum()"
      ],
      "execution_count": null,
      "outputs": [
        {
          "output_type": "execute_result",
          "data": {
            "text/plain": [
              "Year\n",
              "2017     185330\n",
              "2018    5986984\n",
              "Name: Rented_Bike_Count, dtype: int64"
            ]
          },
          "metadata": {
            "tags": []
          },
          "execution_count": 24
        }
      ]
    },
    {
      "cell_type": "code",
      "metadata": {
        "colab": {
          "base_uri": "https://localhost:8080/"
        },
        "id": "7FRH4AZ_LT0S",
        "outputId": "b774c78c-4373-421e-86d9-becc11af4850"
      },
      "source": [
        "# Agrupe a tabela por Estação (Seasons) e faça a soma das vendas por estação\n",
        "df.groupby('Seasons').Rented_Bike_Count.sum()"
      ],
      "execution_count": null,
      "outputs": [
        {
          "output_type": "execute_result",
          "data": {
            "text/plain": [
              "Seasons\n",
              "Autumn    1790002\n",
              "Spring    1611909\n",
              "Summer    2283234\n",
              "Winter     487169\n",
              "Name: Rented_Bike_Count, dtype: int64"
            ]
          },
          "metadata": {
            "tags": []
          },
          "execution_count": 25
        }
      ]
    },
    {
      "cell_type": "code",
      "metadata": {
        "id": "mo7gdbYkNC0Z",
        "colab": {
          "base_uri": "https://localhost:8080/",
          "height": 469
        },
        "outputId": "6dc6164d-953f-464c-e4e3-508fe330b296"
      },
      "source": [
        "# Agrupe a tabela por Mês e tire a média (mean) das vendas por mês\n",
        "df.groupby('Month').mean()"
      ],
      "execution_count": null,
      "outputs": [
        {
          "output_type": "execute_result",
          "data": {
            "text/html": [
              "<div>\n",
              "<style scoped>\n",
              "    .dataframe tbody tr th:only-of-type {\n",
              "        vertical-align: middle;\n",
              "    }\n",
              "\n",
              "    .dataframe tbody tr th {\n",
              "        vertical-align: top;\n",
              "    }\n",
              "\n",
              "    .dataframe thead th {\n",
              "        text-align: right;\n",
              "    }\n",
              "</style>\n",
              "<table border=\"1\" class=\"dataframe\">\n",
              "  <thead>\n",
              "    <tr style=\"text-align: right;\">\n",
              "      <th></th>\n",
              "      <th>Rented_Bike_Count</th>\n",
              "      <th>Hour</th>\n",
              "      <th>Temperature_(°C)</th>\n",
              "      <th>Humidity(%)</th>\n",
              "      <th>Wind_speed (m/s)</th>\n",
              "      <th>Visibility (10m)</th>\n",
              "      <th>Dew_point_temperature(°C)</th>\n",
              "      <th>Solar_Radiation (MJ/m2)</th>\n",
              "      <th>Rainfall(mm)</th>\n",
              "      <th>Snowfall (cm)</th>\n",
              "      <th>Year</th>\n",
              "    </tr>\n",
              "    <tr>\n",
              "      <th>Month</th>\n",
              "      <th></th>\n",
              "      <th></th>\n",
              "      <th></th>\n",
              "      <th></th>\n",
              "      <th></th>\n",
              "      <th></th>\n",
              "      <th></th>\n",
              "      <th></th>\n",
              "      <th></th>\n",
              "      <th></th>\n",
              "      <th></th>\n",
              "    </tr>\n",
              "  </thead>\n",
              "  <tbody>\n",
              "    <tr>\n",
              "      <th>1</th>\n",
              "      <td>386.080645</td>\n",
              "      <td>11.5</td>\n",
              "      <td>2.722849</td>\n",
              "      <td>52.931452</td>\n",
              "      <td>1.813038</td>\n",
              "      <td>1392.811828</td>\n",
              "      <td>-6.599059</td>\n",
              "      <td>0.355175</td>\n",
              "      <td>0.121371</td>\n",
              "      <td>0.250269</td>\n",
              "      <td>2017.967742</td>\n",
              "    </tr>\n",
              "    <tr>\n",
              "      <th>2</th>\n",
              "      <td>393.023810</td>\n",
              "      <td>11.5</td>\n",
              "      <td>6.484375</td>\n",
              "      <td>51.785714</td>\n",
              "      <td>1.838393</td>\n",
              "      <td>1451.800595</td>\n",
              "      <td>-3.832143</td>\n",
              "      <td>0.510818</td>\n",
              "      <td>0.149702</td>\n",
              "      <td>0.066518</td>\n",
              "      <td>2017.964286</td>\n",
              "    </tr>\n",
              "    <tr>\n",
              "      <th>3</th>\n",
              "      <td>611.608871</td>\n",
              "      <td>11.5</td>\n",
              "      <td>11.436694</td>\n",
              "      <td>59.829301</td>\n",
              "      <td>1.913844</td>\n",
              "      <td>1241.911290</td>\n",
              "      <td>3.104570</td>\n",
              "      <td>0.595403</td>\n",
              "      <td>0.094220</td>\n",
              "      <td>0.002957</td>\n",
              "      <td>2017.967742</td>\n",
              "    </tr>\n",
              "    <tr>\n",
              "      <th>4</th>\n",
              "      <td>772.526389</td>\n",
              "      <td>11.5</td>\n",
              "      <td>13.711250</td>\n",
              "      <td>53.630556</td>\n",
              "      <td>1.852639</td>\n",
              "      <td>1440.533333</td>\n",
              "      <td>3.188889</td>\n",
              "      <td>0.733667</td>\n",
              "      <td>0.149583</td>\n",
              "      <td>0.000000</td>\n",
              "      <td>2017.966667</td>\n",
              "    </tr>\n",
              "    <tr>\n",
              "      <th>5</th>\n",
              "      <td>895.091398</td>\n",
              "      <td>11.5</td>\n",
              "      <td>16.620296</td>\n",
              "      <td>60.740591</td>\n",
              "      <td>1.759409</td>\n",
              "      <td>1348.532258</td>\n",
              "      <td>8.294624</td>\n",
              "      <td>0.688911</td>\n",
              "      <td>0.290323</td>\n",
              "      <td>0.000000</td>\n",
              "      <td>2017.967742</td>\n",
              "    </tr>\n",
              "    <tr>\n",
              "      <th>6</th>\n",
              "      <td>981.566667</td>\n",
              "      <td>11.5</td>\n",
              "      <td>18.998194</td>\n",
              "      <td>65.637500</td>\n",
              "      <td>1.694583</td>\n",
              "      <td>1196.531944</td>\n",
              "      <td>11.730000</td>\n",
              "      <td>0.677778</td>\n",
              "      <td>0.359444</td>\n",
              "      <td>0.011944</td>\n",
              "      <td>2017.966667</td>\n",
              "    </tr>\n",
              "    <tr>\n",
              "      <th>7</th>\n",
              "      <td>929.219086</td>\n",
              "      <td>11.5</td>\n",
              "      <td>23.125403</td>\n",
              "      <td>60.586022</td>\n",
              "      <td>1.664919</td>\n",
              "      <td>1527.458333</td>\n",
              "      <td>14.497446</td>\n",
              "      <td>0.777325</td>\n",
              "      <td>0.015054</td>\n",
              "      <td>0.013978</td>\n",
              "      <td>2017.967742</td>\n",
              "    </tr>\n",
              "    <tr>\n",
              "      <th>8</th>\n",
              "      <td>825.524194</td>\n",
              "      <td>11.5</td>\n",
              "      <td>21.259140</td>\n",
              "      <td>62.998656</td>\n",
              "      <td>1.677151</td>\n",
              "      <td>1658.043011</td>\n",
              "      <td>13.169892</td>\n",
              "      <td>0.605296</td>\n",
              "      <td>0.324597</td>\n",
              "      <td>0.006048</td>\n",
              "      <td>2017.967742</td>\n",
              "    </tr>\n",
              "    <tr>\n",
              "      <th>9</th>\n",
              "      <td>693.508333</td>\n",
              "      <td>11.5</td>\n",
              "      <td>17.071806</td>\n",
              "      <td>60.772222</td>\n",
              "      <td>1.516944</td>\n",
              "      <td>1681.188889</td>\n",
              "      <td>8.774444</td>\n",
              "      <td>0.557903</td>\n",
              "      <td>0.086806</td>\n",
              "      <td>0.015000</td>\n",
              "      <td>2017.966667</td>\n",
              "    </tr>\n",
              "    <tr>\n",
              "      <th>10</th>\n",
              "      <td>842.725806</td>\n",
              "      <td>11.5</td>\n",
              "      <td>12.107930</td>\n",
              "      <td>59.985215</td>\n",
              "      <td>1.658065</td>\n",
              "      <td>1517.185484</td>\n",
              "      <td>3.819892</td>\n",
              "      <td>0.541573</td>\n",
              "      <td>0.081183</td>\n",
              "      <td>0.057392</td>\n",
              "      <td>2017.967742</td>\n",
              "    </tr>\n",
              "    <tr>\n",
              "      <th>11</th>\n",
              "      <td>685.294444</td>\n",
              "      <td>11.5</td>\n",
              "      <td>7.787222</td>\n",
              "      <td>53.708333</td>\n",
              "      <td>1.654306</td>\n",
              "      <td>1391.634722</td>\n",
              "      <td>-1.890833</td>\n",
              "      <td>0.438833</td>\n",
              "      <td>0.027222</td>\n",
              "      <td>0.170833</td>\n",
              "      <td>2017.966667</td>\n",
              "    </tr>\n",
              "    <tr>\n",
              "      <th>12</th>\n",
              "      <td>419.047043</td>\n",
              "      <td>11.5</td>\n",
              "      <td>2.845430</td>\n",
              "      <td>55.513441</td>\n",
              "      <td>1.660753</td>\n",
              "      <td>1394.520161</td>\n",
              "      <td>-5.959409</td>\n",
              "      <td>0.345255</td>\n",
              "      <td>0.085753</td>\n",
              "      <td>0.301747</td>\n",
              "      <td>2017.354839</td>\n",
              "    </tr>\n",
              "  </tbody>\n",
              "</table>\n",
              "</div>"
            ],
            "text/plain": [
              "       Rented_Bike_Count  Hour  ...  Snowfall (cm)         Year\n",
              "Month                           ...                            \n",
              "1             386.080645  11.5  ...       0.250269  2017.967742\n",
              "2             393.023810  11.5  ...       0.066518  2017.964286\n",
              "3             611.608871  11.5  ...       0.002957  2017.967742\n",
              "4             772.526389  11.5  ...       0.000000  2017.966667\n",
              "5             895.091398  11.5  ...       0.000000  2017.967742\n",
              "6             981.566667  11.5  ...       0.011944  2017.966667\n",
              "7             929.219086  11.5  ...       0.013978  2017.967742\n",
              "8             825.524194  11.5  ...       0.006048  2017.967742\n",
              "9             693.508333  11.5  ...       0.015000  2017.966667\n",
              "10            842.725806  11.5  ...       0.057392  2017.967742\n",
              "11            685.294444  11.5  ...       0.170833  2017.966667\n",
              "12            419.047043  11.5  ...       0.301747  2017.354839\n",
              "\n",
              "[12 rows x 11 columns]"
            ]
          },
          "metadata": {
            "tags": []
          },
          "execution_count": 27
        }
      ]
    },
    {
      "cell_type": "markdown",
      "metadata": {
        "id": "NZglHMS8Ny9o"
      },
      "source": [
        "### **Comente quais foram os insights que você pôde perceber nesses números?**\n",
        "* Estamos em tendência de alta ou baixa?\n",
        "\n",
        "*Resposta: Tendência de alta\n",
        "* Qual é a melhor estação?\n",
        "\n",
        "*Resposta:Verão\n",
        "* Qual mês, em média, é melhor?\n",
        "\n",
        "*Resposta:O mês de junho\n",
        "\n",
        "*Duplo clique nesta célula para editar a resposta*\n"
      ]
    },
    {
      "cell_type": "markdown",
      "metadata": {
        "id": "MF8hcXtdPGd1"
      },
      "source": [
        "### **Exercício 3**\n",
        "Vamos criar algumas visualizações gráficas com o Pandas"
      ]
    },
    {
      "cell_type": "code",
      "metadata": {
        "colab": {
          "base_uri": "https://localhost:8080/",
          "height": 404
        },
        "id": "SQF2EA0BNbug",
        "outputId": "63cb604c-b480-421f-8d1f-cfc99a48e6f6"
      },
      "source": [
        "# Faça um gráfico (plot) em linha do agrupamento de Bikes alugadas por mês usando a média (mean) como função de agregação\n",
        "df.groupby('Rented_Bike_Count').Rented_Bike_Count.mean().plot(title='Média de Aluguéis de Bikes por Mês',\n",
        "                                                  xlabel='Mês', \n",
        "                                                  ylabel='Média Bikes Alugadas',\n",
        "                                                  figsize=(14,6));"
      ],
      "execution_count": null,
      "outputs": [
        {
          "output_type": "display_data",
          "data": {
            "image/png": "[encoded data removed]",
            "text/plain": [
              "<Figure size 1008x432 with 1 Axes>"
            ]
          },
          "metadata": {
            "tags": [],
            "needs_background": "light"
          }
        }
      ]
    },
    {
      "cell_type": "code",
      "metadata": {
        "colab": {
          "base_uri": "https://localhost:8080/",
          "height": 436
        },
        "id": "f8wGl6BqPn9f",
        "outputId": "cf857eaa-bb4e-43ca-8c0e-53c85536bafd"
      },
      "source": [
        "# Faça um gráfico (plot) em barras do agrupamento de Bikes alugadas por Season usando a Soma como função de agregação\n",
        "\n",
        "# Criando uma variável com o agrupamento e organizando os dados do maior para o menor (Caso queira ver o resultado do agrupamento, execute agg_by_season em uma célula separada)\n",
        "agg_by_season = df.groupby('Seasons').Rented_Bike_Count.sum().sort_values(ascending=False)\n",
        "\n",
        "# Criar o gráfico de barras\n",
        "agg_by_season.plot.bar(title='Total de Aluguéis de Bikes por Estação',\n",
        "                                                  xlabel='Estações do Ano', \n",
        "                                                  ylabel='Bikes',\n",
        "                                                  figsize=(14,6),\n",
        "                                                  color='tomato');"
      ],
      "execution_count": null,
      "outputs": [
        {
          "output_type": "display_data",
          "data": {
            "image/png": "[encoded data removed]",
            "text/plain": [
              "<Figure size 1008x432 with 1 Axes>"
            ]
          },
          "metadata": {
            "tags": [],
            "needs_background": "light"
          }
        }
      ]
    },
    {
      "cell_type": "markdown",
      "metadata": {
        "id": "E9U_L8p7TU0S"
      },
      "source": [
        "### **Exercício 4**\n",
        "Em nosso último exercício, vou propor um desafio."
      ]
    },
    {
      "cell_type": "markdown",
      "metadata": {
        "id": "YtG3tzHsTg2D"
      },
      "source": [
        "A **correlação** é uma medida estatística que consegue medir qual é a força da relação entre duas variáveis numéricas. Deste modo, é possível medir quais são as variáveis do nosso dataset que mais influenciam o aluguel de Bikes.\n",
        "\n",
        "[A *correlação* é um número que varia entre 1 e -1](https://pt.wikipedia.org/wiki/Correla%C3%A7%C3%A3o). Sempre que este número se aproxima dos extremos 1 ou -1, dizemos que a relação é mais forte entre as variáveis, sendo 1 uma correlação positiva onde a variável A aumenta, B também aumenta e -1 é uma correlação negativa, quando A aumenta e B diminui.\n",
        "\n",
        "As correlações são mais fracas quanto mais o número se aproxima de zero."
      ]
    },
    {
      "cell_type": "markdown",
      "metadata": {
        "id": "VBX2lPr6UrQ1"
      },
      "source": [
        "Tendo a documentação do método [df.corr( )](https://pandas.pydata.org/pandas-docs/stable/reference/api/pandas.DataFrame.corr.html), calcule a correlação entre as variáveis e determine quais podem afetar as vendas do nosso cliente."
      ]
    },
    {
      "cell_type": "code",
      "metadata": {
        "colab": {
          "base_uri": "https://localhost:8080/"
        },
        "id": "uCISgxtPTfYF",
        "outputId": "07ce3405-6056-46ae-b8b3-19de436d4309"
      },
      "source": [
        "correlacao = df.corr()\n",
        "correlacao.loc['Rented_Bike_Count',:]"
      ],
      "execution_count": null,
      "outputs": [
        {
          "output_type": "execute_result",
          "data": {
            "text/plain": [
              "Rented_Bike_Count            1.000000\n",
              "Hour                         0.410257\n",
              "Temperature_(°C)             0.538558\n",
              "Humidity(%)                 -0.199780\n",
              "Wind_speed (m/s)             0.121108\n",
              "Visibility (10m)             0.199280\n",
              "Dew_point_temperature(°C)    0.379788\n",
              "Solar_Radiation (MJ/m2)      0.261837\n",
              "Rainfall(mm)                -0.123074\n",
              "Snowfall (cm)               -0.141804\n",
              "Year                         0.215162\n",
              "Month                        0.070861\n",
              "Name: Rented_Bike_Count, dtype: float64"
            ]
          },
          "metadata": {
            "tags": []
          },
          "execution_count": 32
        }
      ]
    },
    {
      "cell_type": "code",
      "metadata": {
        "colab": {
          "base_uri": "https://localhost:8080/",
          "height": 399
        },
        "id": "i9DRRaXnRuH8",
        "outputId": "3aabf1dd-ec2e-4890-8333-5aa2285341a6"
      },
      "source": [
        "# Para visualizar o mapa de calor, basta executar o código abaixo\n",
        "import seaborn as sns\n",
        "sns.heatmap(correlacao);"
      ],
      "execution_count": null,
      "outputs": [
        {
          "output_type": "display_data",
          "data": {
            "image/png": "[encoded data removed]",
            "text/plain": [
              "<Figure size 432x288 with 2 Axes>"
            ]
          },
          "metadata": {
            "tags": [],
            "needs_background": "light"
          }
        }
      ]
    },
    {
      "cell_type": "markdown",
      "metadata": {
        "id": "SbnCmVXXWoQ2"
      },
      "source": [
        "## **Qual seria a estratégia que você apresentaria ao cliente?**\n",
        "* Em quais meses ele deve investir mais ou menos?\n",
        "* Quais os melhores meses para criar promoções?\n",
        "* Que variáveis podem afetar mais as vendas do cliente?\n",
        "\n",
        "Escreva a sua resposta em um parágrafo explicando as suas ações embasadas nos dados coletados das respostas ou de suas próprias análises."
      ]
    },
    {
      "cell_type": "markdown",
      "metadata": {
        "id": "NSR2xTizYXMu"
      },
      "source": [
        "Os meses que ele deve investir menos são janeiro e fevereiro e investir mais em junho e julho por conta da demanda. O mês ideal para promoções seria dezembro por conta do fim de ano. As variáveis que mais afetam o cliente sao Humidity, Rainfall, Snowfall\n",
        "\n",
        "*Duplo clique para editar*"
      ]
    }
  ]
}